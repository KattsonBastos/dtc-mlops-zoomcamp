{
 "cells": [
  {
   "cell_type": "markdown",
   "metadata": {},
   "source": [
    "## 0. IMPORTING"
   ]
  },
  {
   "cell_type": "code",
   "execution_count": 1,
   "metadata": {},
   "outputs": [],
   "source": [
    "from fastparquet import ParquetFile\n",
    "\n",
    "\n",
    "from sklearn.metrics             import mean_squared_error\n",
    "\n",
    "from sklearn.linear_model       import LinearRegression\n",
    "from sklearn.linear_model       import Lasso\n",
    "from sklearn.linear_model       import Ridge\n",
    "\n",
    "from sklearn.feature_extraction import DictVectorizer"
   ]
  },
  {
   "cell_type": "markdown",
   "metadata": {},
   "source": [
    "### 0.2. Constant Variables"
   ]
  },
  {
   "cell_type": "code",
   "execution_count": 2,
   "metadata": {},
   "outputs": [],
   "source": [
    "BASE_PATH = '../data/'"
   ]
  },
  {
   "cell_type": "markdown",
   "metadata": {},
   "source": [
    "## 1. DATA LOADING AND DESCRIPTION"
   ]
  },
  {
   "cell_type": "code",
   "execution_count": 3,
   "metadata": {},
   "outputs": [],
   "source": [
    "fhv_data_jan = ParquetFile(BASE_PATH + 'fhv_tripdata_2021-01.parquet').to_pandas()\n",
    "fhv_data_feb = ParquetFile(BASE_PATH + 'fhv_tripdata_2021-02.parquet').to_pandas()"
   ]
  },
  {
   "cell_type": "markdown",
   "metadata": {},
   "source": [
    "### 1.1. Data Dimensions"
   ]
  },
  {
   "cell_type": "code",
   "execution_count": 4,
   "metadata": {},
   "outputs": [
    {
     "name": "stdout",
     "output_type": "stream",
     "text": [
      "FHV Number of Rows (Jan):  1154112\n",
      "FHV Number of Columns (Jan):  7\n"
     ]
    }
   ],
   "source": [
    "print('FHV Number of Rows (Jan): ', fhv_data_jan.shape[0])\n",
    "print('FHV Number of Columns (Jan): ', fhv_data_jan.shape[1])"
   ]
  },
  {
   "cell_type": "code",
   "execution_count": 5,
   "metadata": {},
   "outputs": [
    {
     "name": "stdout",
     "output_type": "stream",
     "text": [
      "FHV Number of Rows (Feb):  1037692\n",
      "FHV Number of Columns (JanuFebary):  7\n"
     ]
    }
   ],
   "source": [
    "print('FHV Number of Rows (Feb): ', fhv_data_feb.shape[0])\n",
    "print('FHV Number of Columns (JanuFebary): ', fhv_data_feb.shape[1])"
   ]
  },
  {
   "cell_type": "markdown",
   "metadata": {},
   "source": [
    "### 1.2. Missing Values"
   ]
  },
  {
   "cell_type": "markdown",
   "metadata": {},
   "source": [
    "Let's check if there are missing value in the dataset."
   ]
  },
  {
   "cell_type": "code",
   "execution_count": 6,
   "metadata": {},
   "outputs": [
    {
     "data": {
      "text/plain": [
       "dispatching_base_num            0\n",
       "pickup_datetime                 0\n",
       "dropOff_datetime                0\n",
       "PUlocationID               958267\n",
       "DOlocationID               162220\n",
       "SR_Flag                   1154112\n",
       "Affiliated_base_number        885\n",
       "dtype: int64"
      ]
     },
     "execution_count": 6,
     "metadata": {},
     "output_type": "execute_result"
    }
   ],
   "source": [
    "fhv_data_jan.isna().sum()"
   ]
  },
  {
   "cell_type": "code",
   "execution_count": 7,
   "metadata": {},
   "outputs": [
    {
     "data": {
      "text/plain": [
       "dispatching_base_num            0\n",
       "pickup_datetime                 0\n",
       "dropOff_datetime                0\n",
       "PUlocationID               884691\n",
       "DOlocationID               152352\n",
       "SR_Flag                   1037692\n",
       "Affiliated_base_number          0\n",
       "dtype: int64"
      ]
     },
     "execution_count": 7,
     "metadata": {},
     "output_type": "execute_result"
    }
   ],
   "source": [
    "fhv_data_feb.isna().sum()"
   ]
  },
  {
   "cell_type": "markdown",
   "metadata": {},
   "source": [
    "## ANSWERING HOMEWORK QUESTIONS"
   ]
  },
  {
   "cell_type": "markdown",
   "metadata": {},
   "source": [
    "### Q1: How many records are there for Jan?"
   ]
  },
  {
   "cell_type": "code",
   "execution_count": 8,
   "metadata": {},
   "outputs": [
    {
     "name": "stdout",
     "output_type": "stream",
     "text": [
      "FHV Number of Rows (Jan):  1154112\n"
     ]
    }
   ],
   "source": [
    "print('FHV Number of Rows (Jan): ', fhv_data_jan.shape[0])"
   ]
  },
  {
   "cell_type": "markdown",
   "metadata": {},
   "source": [
    "### Q2: What's the average trip duration in January?"
   ]
  },
  {
   "cell_type": "code",
   "execution_count": 9,
   "metadata": {},
   "outputs": [],
   "source": [
    "fhv_data_jan['duration'] = fhv_data_jan['dropOff_datetime'] - fhv_data_jan['pickup_datetime']"
   ]
  },
  {
   "cell_type": "code",
   "execution_count": 10,
   "metadata": {},
   "outputs": [],
   "source": [
    "fhv_data_jan['duration'] = fhv_data_jan.duration.apply(lambda td: td.total_seconds() / 60)"
   ]
  },
  {
   "cell_type": "code",
   "execution_count": 11,
   "metadata": {},
   "outputs": [
    {
     "name": "stdout",
     "output_type": "stream",
     "text": [
      "The average trip duration in January is 19.167 minutes\n"
     ]
    }
   ],
   "source": [
    "print(f\"The average trip duration in January is {round(fhv_data_jan['duration'].mean(), 3)} minutes\")"
   ]
  },
  {
   "cell_type": "markdown",
   "metadata": {},
   "source": [
    "### Removing Outliers"
   ]
  },
  {
   "cell_type": "code",
   "execution_count": 12,
   "metadata": {},
   "outputs": [],
   "source": [
    "fhv_data_jan = fhv_data_jan[(fhv_data_jan.duration >= 1) & (fhv_data_jan.duration <= 60)]"
   ]
  },
  {
   "cell_type": "code",
   "execution_count": 13,
   "metadata": {},
   "outputs": [
    {
     "data": {
      "text/plain": [
       "(1109826, 8)"
      ]
     },
     "execution_count": 13,
     "metadata": {},
     "output_type": "execute_result"
    }
   ],
   "source": [
    "fhv_data_jan.shape"
   ]
  },
  {
   "cell_type": "markdown",
   "metadata": {},
   "source": [
    "### Q3: Missing values"
   ]
  },
  {
   "cell_type": "code",
   "execution_count": 14,
   "metadata": {},
   "outputs": [],
   "source": [
    "fhv_data_jan['PUlocationID'] = fhv_data_jan['PUlocationID'].fillna(-1)\n",
    "fhv_data_jan['DOlocationID'] = fhv_data_jan['DOlocationID'].fillna(-1)"
   ]
  },
  {
   "cell_type": "code",
   "execution_count": 15,
   "metadata": {},
   "outputs": [],
   "source": [
    "na_count = fhv_data_jan[fhv_data_jan['PUlocationID'] == -1].shape[0] / fhv_data_jan.shape[0]"
   ]
  },
  {
   "cell_type": "code",
   "execution_count": 16,
   "metadata": {},
   "outputs": [
    {
     "name": "stdout",
     "output_type": "stream",
     "text": [
      "The fraction of missing values for pickup ID is 83.5%\n"
     ]
    }
   ],
   "source": [
    "print(f'The fraction of missing values for pickup ID is {na_count*100:.1f}%')"
   ]
  },
  {
   "cell_type": "markdown",
   "metadata": {},
   "source": [
    "### Q4: One-hot encoding"
   ]
  },
  {
   "cell_type": "code",
   "execution_count": 17,
   "metadata": {},
   "outputs": [],
   "source": [
    "categorical = ['PUlocationID', 'DOlocationID']\n",
    "fhv_data_jan[categorical] = fhv_data_jan[categorical].astype(str)"
   ]
  },
  {
   "cell_type": "code",
   "execution_count": 18,
   "metadata": {},
   "outputs": [],
   "source": [
    "train_dicts = fhv_data_jan[categorical].to_dict(orient='records')\n",
    "\n",
    "dv = DictVectorizer()"
   ]
  },
  {
   "cell_type": "code",
   "execution_count": 19,
   "metadata": {},
   "outputs": [
    {
     "data": {
      "text/plain": [
       "(1109826, 525)"
      ]
     },
     "execution_count": 19,
     "metadata": {},
     "output_type": "execute_result"
    }
   ],
   "source": [
    "X_train = dv.fit_transform(train_dicts)\n",
    "\n",
    "X_train.shape"
   ]
  },
  {
   "cell_type": "code",
   "execution_count": 20,
   "metadata": {},
   "outputs": [
    {
     "name": "stdout",
     "output_type": "stream",
     "text": [
      "The number of columns of the matrix is 525.\n"
     ]
    }
   ],
   "source": [
    "print(f\"The number of columns of the matrix is {X_train.shape[1]}.\")"
   ]
  },
  {
   "cell_type": "markdown",
   "metadata": {},
   "source": [
    "### Q5: What's the RMSE on train?"
   ]
  },
  {
   "cell_type": "code",
   "execution_count": 21,
   "metadata": {},
   "outputs": [],
   "source": [
    "target = 'duration'\n",
    "y_train = fhv_data_jan[target].values"
   ]
  },
  {
   "cell_type": "markdown",
   "metadata": {},
   "source": [
    "#### Fitting the model"
   ]
  },
  {
   "cell_type": "code",
   "execution_count": 22,
   "metadata": {},
   "outputs": [],
   "source": [
    "lr = LinearRegression()\n",
    "lr.fit(X_train, y_train)\n",
    "\n",
    "y_pred = lr.predict(X_train)"
   ]
  },
  {
   "cell_type": "code",
   "execution_count": 23,
   "metadata": {},
   "outputs": [
    {
     "name": "stdout",
     "output_type": "stream",
     "text": [
      "The RMSE on train id 10.528519388409808\n"
     ]
    }
   ],
   "source": [
    "print(f\"The RMSE on train id {mean_squared_error(y_train, y_pred, squared=False)}\")"
   ]
  },
  {
   "cell_type": "markdown",
   "metadata": {},
   "source": [
    "### Q6: What's the RMSE on validation?"
   ]
  },
  {
   "cell_type": "markdown",
   "metadata": {},
   "source": [
    "### Preparing the february data"
   ]
  },
  {
   "cell_type": "code",
   "execution_count": 25,
   "metadata": {},
   "outputs": [],
   "source": [
    "#duration\n",
    "fhv_data_feb['duration'] = fhv_data_feb['dropOff_datetime'] - fhv_data_feb['pickup_datetime']\n",
    "fhv_data_feb['duration'] = fhv_data_feb.duration.apply(lambda td: td.total_seconds() / 60)\n",
    "\n",
    "# removing outliers\n",
    "fhv_data_feb = fhv_data_feb[(fhv_data_feb.duration >= 1) & (fhv_data_feb.duration <= 60)]\n",
    "\n",
    "# filling missing values\n",
    "fhv_data_feb['PUlocationID'] = fhv_data_feb['PUlocationID'].fillna(-1)\n",
    "fhv_data_feb['DOlocationID'] = fhv_data_feb['DOlocationID'].fillna(-1)\n",
    "\n",
    "# one-hot encoding\n",
    "categorical = ['PUlocationID', 'DOlocationID']\n",
    "fhv_data_feb[categorical] = fhv_data_feb[categorical].astype(str)\n",
    "\n",
    "test_dicts = fhv_data_feb[categorical].to_dict(orient='records')\n",
    "\n",
    "X_val = dv.transform(test_dicts)\n",
    "\n",
    "# target varaible\n",
    "y_val = fhv_data_feb[target].values"
   ]
  },
  {
   "cell_type": "code",
   "execution_count": 26,
   "metadata": {},
   "outputs": [],
   "source": [
    "y_pred = lr.predict(X_val)"
   ]
  },
  {
   "cell_type": "code",
   "execution_count": 27,
   "metadata": {},
   "outputs": [
    {
     "name": "stdout",
     "output_type": "stream",
     "text": [
      "The RMSE on validation id 11.014287519486222\n"
     ]
    }
   ],
   "source": [
    "print(f\"The RMSE on validation id {mean_squared_error(y_val, y_pred, squared=False)}\")"
   ]
  },
  {
   "cell_type": "code",
   "execution_count": null,
   "metadata": {},
   "outputs": [],
   "source": []
  }
 ],
 "metadata": {
  "interpreter": {
   "hash": "41e9cfe63f20320b8fb60b35f32df6a5a032770f3c7182aa9f7018cc9e10b7e5"
  },
  "kernelspec": {
   "display_name": "Python 3.8.10 ('env')",
   "language": "python",
   "name": "python3"
  },
  "language_info": {
   "codemirror_mode": {
    "name": "ipython",
    "version": 3
   },
   "file_extension": ".py",
   "mimetype": "text/x-python",
   "name": "python",
   "nbconvert_exporter": "python",
   "pygments_lexer": "ipython3",
   "version": "3.8.10"
  },
  "orig_nbformat": 4
 },
 "nbformat": 4,
 "nbformat_minor": 2
}
